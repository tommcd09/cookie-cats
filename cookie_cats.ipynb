{
 "cells": [
  {
   "cell_type": "markdown",
   "id": "cf8c302f",
   "metadata": {},
   "source": [
    "# Cookie Cats A/B Testing\n",
    "\n",
    "## I. Project Background\n",
    "\n",
    "This project is adapted from a project on [DataCamp](https://app.datacamp.com/learn/projects/184). However, I used different methods to complete it:\n",
    "\n",
    "Cookie Cats is a hugely popular mobile puzzle game developed by Tactile Entertainment. It's a classic \"connect three\" style puzzle game where the player must connect tiles of the same color in order to clear the board and win the level. It also features singing cats. We're not kidding!\n",
    "\n",
    "As players progress through the game they will encounter gates that force them to wait some time before they can progress or make an in-app purchase. In this project, we will analyze the result of an A/B test where the first gate in Cookie Cats was moved from level 30 to level 40. In particular, we will analyze the impact on player retention.\n",
    "\n",
    "## II. The Data\n",
    "\n",
    "The data comes from 90,189 players who installed the game while the A/B test was running. The variables are:\n",
    "\n",
    "* userid - a unique number that identifies each player.\n",
    "* version - whether the player was put in the control group (gate_30 - a gate at level 30) or the group with the moved gate (gate_40 - a gate at level 40).\n",
    "* sum_gamerounds - the number of game rounds played by the player during the first 14 days after install.\n",
    "* retention_1 - whether the player came back and played one day after installing.\n",
    "* retention_7 - whether the player came back and played seven days after installing.\n",
    "\n",
    "When a player installed the game, he or she was randomly assigned to either gate_30 or gate_40.\n",
    "\n",
    "Let's import the necessary packages and the data."
   ]
  },
  {
   "cell_type": "code",
   "execution_count": 1,
   "id": "330d1378",
   "metadata": {},
   "outputs": [
    {
     "data": {
      "text/html": [
       "<div>\n",
       "<style scoped>\n",
       "    .dataframe tbody tr th:only-of-type {\n",
       "        vertical-align: middle;\n",
       "    }\n",
       "\n",
       "    .dataframe tbody tr th {\n",
       "        vertical-align: top;\n",
       "    }\n",
       "\n",
       "    .dataframe thead th {\n",
       "        text-align: right;\n",
       "    }\n",
       "</style>\n",
       "<table border=\"1\" class=\"dataframe\">\n",
       "  <thead>\n",
       "    <tr style=\"text-align: right;\">\n",
       "      <th></th>\n",
       "      <th>userid</th>\n",
       "      <th>version</th>\n",
       "      <th>sum_gamerounds</th>\n",
       "      <th>retention_1</th>\n",
       "      <th>retention_7</th>\n",
       "    </tr>\n",
       "  </thead>\n",
       "  <tbody>\n",
       "    <tr>\n",
       "      <th>0</th>\n",
       "      <td>116</td>\n",
       "      <td>gate_30</td>\n",
       "      <td>3</td>\n",
       "      <td>False</td>\n",
       "      <td>False</td>\n",
       "    </tr>\n",
       "    <tr>\n",
       "      <th>1</th>\n",
       "      <td>337</td>\n",
       "      <td>gate_30</td>\n",
       "      <td>38</td>\n",
       "      <td>True</td>\n",
       "      <td>False</td>\n",
       "    </tr>\n",
       "    <tr>\n",
       "      <th>2</th>\n",
       "      <td>377</td>\n",
       "      <td>gate_40</td>\n",
       "      <td>165</td>\n",
       "      <td>True</td>\n",
       "      <td>False</td>\n",
       "    </tr>\n",
       "    <tr>\n",
       "      <th>3</th>\n",
       "      <td>483</td>\n",
       "      <td>gate_40</td>\n",
       "      <td>1</td>\n",
       "      <td>False</td>\n",
       "      <td>False</td>\n",
       "    </tr>\n",
       "    <tr>\n",
       "      <th>4</th>\n",
       "      <td>488</td>\n",
       "      <td>gate_40</td>\n",
       "      <td>179</td>\n",
       "      <td>True</td>\n",
       "      <td>True</td>\n",
       "    </tr>\n",
       "  </tbody>\n",
       "</table>\n",
       "</div>"
      ],
      "text/plain": [
       "   userid  version  sum_gamerounds  retention_1  retention_7\n",
       "0     116  gate_30               3        False        False\n",
       "1     337  gate_30              38         True        False\n",
       "2     377  gate_40             165         True        False\n",
       "3     483  gate_40               1        False        False\n",
       "4     488  gate_40             179         True         True"
      ]
     },
     "execution_count": 1,
     "metadata": {},
     "output_type": "execute_result"
    }
   ],
   "source": [
    "import pandas as pd\n",
    "import numpy as np\n",
    "import matplotlib.pyplot as plt\n",
    "import seaborn as sns\n",
    "\n",
    "pd.set_option('display.max_rows', 10)\n",
    "pd.set_option('display.float_format', lambda x: '%.2f' % x)\n",
    "\n",
    "cats = pd.read_csv('./data/cookie_cats.csv')\n",
    "\n",
    "#Take a first look at the data\n",
    "cats.head()"
   ]
  },
  {
   "cell_type": "markdown",
   "id": "5834f664",
   "metadata": {},
   "source": [
    "The data looks fairly clean, but let's do a few checks. First, check column data types and any missing data."
   ]
  },
  {
   "cell_type": "code",
   "execution_count": 2,
   "id": "5833d69a",
   "metadata": {},
   "outputs": [
    {
     "name": "stdout",
     "output_type": "stream",
     "text": [
      "<class 'pandas.core.frame.DataFrame'>\n",
      "RangeIndex: 90189 entries, 0 to 90188\n",
      "Data columns (total 5 columns):\n",
      " #   Column          Non-Null Count  Dtype \n",
      "---  ------          --------------  ----- \n",
      " 0   userid          90189 non-null  int64 \n",
      " 1   version         90189 non-null  object\n",
      " 2   sum_gamerounds  90189 non-null  int64 \n",
      " 3   retention_1     90189 non-null  bool  \n",
      " 4   retention_7     90189 non-null  bool  \n",
      "dtypes: bool(2), int64(2), object(1)\n",
      "memory usage: 2.2+ MB\n"
     ]
    }
   ],
   "source": [
    "cats.info()"
   ]
  },
  {
   "cell_type": "markdown",
   "id": "1cc2ab1a",
   "metadata": {},
   "source": [
    "There isn't any missing data, and we don't need to change any of the column data types. Let's also check for duplicate rows."
   ]
  },
  {
   "cell_type": "code",
   "execution_count": 3,
   "id": "16df9dd5",
   "metadata": {},
   "outputs": [
    {
     "data": {
      "text/plain": [
       "0"
      ]
     },
     "execution_count": 3,
     "metadata": {},
     "output_type": "execute_result"
    }
   ],
   "source": [
    "cats.duplicated().sum()"
   ]
  },
  {
   "cell_type": "markdown",
   "id": "13679de2",
   "metadata": {},
   "source": [
    "There aren't any duplicate rows either. Now let's check for any inconsistent categories in the version, retention_1, and retention_7 columns. Each of these columns should only have two unique categories."
   ]
  },
  {
   "cell_type": "code",
   "execution_count": 4,
   "id": "4b219159",
   "metadata": {},
   "outputs": [
    {
     "name": "stdout",
     "output_type": "stream",
     "text": [
      "['gate_30' 'gate_40']\n",
      "[False  True]\n",
      "[False  True]\n"
     ]
    }
   ],
   "source": [
    "cols = ['version', 'retention_1', 'retention_7']\n",
    "for col in cols:\n",
    "    print(cats[col].unique())"
   ]
  },
  {
   "cell_type": "markdown",
   "id": "3ab2692c",
   "metadata": {},
   "source": [
    "These are all expected categories for each of these columns. \n",
    "\n",
    "## III. Exploring Player Behavior\n",
    "\n",
    "Let's check summary statistics for sum_gamerounds."
   ]
  },
  {
   "cell_type": "code",
   "execution_count": 5,
   "id": "1f28c3f4",
   "metadata": {},
   "outputs": [
    {
     "data": {
      "text/plain": [
       "count   90189.00\n",
       "mean       51.87\n",
       "std       195.05\n",
       "min         0.00\n",
       "25%         5.00\n",
       "50%        16.00\n",
       "75%        51.00\n",
       "max     49854.00\n",
       "Name: sum_gamerounds, dtype: float64"
      ]
     },
     "execution_count": 5,
     "metadata": {},
     "output_type": "execute_result"
    }
   ],
   "source": [
    "cats['sum_gamerounds'].describe()"
   ]
  },
  {
   "cell_type": "markdown",
   "id": "6904610f",
   "metadata": {},
   "source": [
    "Players tend to play about 52 levels on average. However, the median is 16 levels, indicating that the data is right-skewed. There is also a very high max value of 49,854. A user would have to play one level every 12 seconds for a full week in order to accomplish this, so it's highly likely that this value is an error. Let's investigate the distribution of levels played a bit further and plot the distribution in a boxplot."
   ]
  },
  {
   "cell_type": "code",
   "execution_count": 6,
   "id": "824e6b49",
   "metadata": {},
   "outputs": [
    {
     "data": {
      "image/png": "[encoded data removed]",
      "text/plain": [
       "<Figure size 1080x720 with 1 Axes>"
      ]
     },
     "metadata": {
      "needs_background": "light"
     },
     "output_type": "display_data"
    }
   ],
   "source": [
    "fig, ax = plt.subplots(1, 1, figsize = (15,10))\n",
    "sns.boxplot(y='sum_gamerounds', data=cats, ax=ax)\n",
    "ax.set_ylabel('Number of Levels Played', fontdict={'fontsize':'x-large'})\n",
    "ax.set_title('Distribution of Levels Played', fontdict={'fontsize':'xx-large'})\n",
    "plt.show()"
   ]
  },
  {
   "cell_type": "markdown",
   "id": "4fe37c11",
   "metadata": {},
   "source": [
    "It appears that one outlier is causing the high max for sum_gamerounds. Because we are fairly sure this is an erroneous value, we can drop it from the data."
   ]
  },
  {
   "cell_type": "code",
   "execution_count": 7,
   "id": "06e92a3f",
   "metadata": {},
   "outputs": [],
   "source": [
    "cats = cats[cats['sum_gamerounds'] < cats['sum_gamerounds'].max()]"
   ]
  },
  {
   "cell_type": "markdown",
   "id": "94b58179",
   "metadata": {},
   "source": [
    "Now let's view the summary statistics and boxplots for the data without the extreme value."
   ]
  },
  {
   "cell_type": "code",
   "execution_count": 8,
   "id": "6db5023f",
   "metadata": {},
   "outputs": [
    {
     "data": {
      "text/plain": [
       "count   90188.00\n",
       "mean       51.32\n",
       "std       102.68\n",
       "min         0.00\n",
       "25%         5.00\n",
       "50%        16.00\n",
       "75%        51.00\n",
       "max      2961.00\n",
       "Name: sum_gamerounds, dtype: float64"
      ]
     },
     "execution_count": 8,
     "metadata": {},
     "output_type": "execute_result"
    }
   ],
   "source": [
    "cats['sum_gamerounds'].describe()"
   ]
  },
  {
   "cell_type": "code",
   "execution_count": 9,
   "id": "8033814c",
   "metadata": {},
   "outputs": [
    {
     "data": {
      "image/png": "[encoded data removed]",
      "text/plain": [
       "<Figure size 1080x720 with 1 Axes>"
      ]
     },
     "metadata": {
      "needs_background": "light"
     },
     "output_type": "display_data"
    }
   ],
   "source": [
    "fig, ax = plt.subplots(1, 1, figsize = (15,10))\n",
    "sns.boxplot(y='sum_gamerounds', data=cats, ax=ax)\n",
    "ax.set_ylabel('Number of Levels Played', fontdict={'fontsize':'x-large'})\n",
    "ax.set_title('Distribution of Levels Played', fontdict={'fontsize':'xx-large'})\n",
    "plt.show()"
   ]
  },
  {
   "cell_type": "markdown",
   "id": "753d58bd",
   "metadata": {},
   "source": [
    "The data is still very right-skewed. Some players played well above 1,000 or even 2,000 levels, but the majority of players played a relatively small number of levels.\n",
    "\n",
    "To better see the distribution of users who played only a small number of levels, let's plot a histogram of the number users who played each number of levels. We'll show all levels on one histogram and just the first 100 levels on another histogram."
   ]
  },
  {
   "cell_type": "code",
   "execution_count": 10,
   "id": "0941ff47",
   "metadata": {},
   "outputs": [
    {
     "data": {
      "image/png": "[encoded data removed]",
      "text/plain": [
       "<Figure size 1080x720 with 2 Axes>"
      ]
     },
     "metadata": {
      "needs_background": "light"
     },
     "output_type": "display_data"
    }
   ],
   "source": [
    "fig, axes = plt.subplots(2, 1, figsize = (15,10))\n",
    "sns.histplot(x='sum_gamerounds', data=cats, binwidth=1, ax=axes[0])\n",
    "sns.histplot(x='sum_gamerounds', data=cats[cats['sum_gamerounds'] <= 100], binwidth=1, ax=axes[1])\n",
    "plt.suptitle('Number of Users Who Played Each Number of Levels', fontsize='xx-large')\n",
    "axes[0].set_title('All Levels', fontdict={'fontsize':'xx-large'})\n",
    "axes[1].set_title('First 100 Levels', fontdict={'fontsize':'xx-large'})\n",
    "axes[0].set_xlabel('Number of Levels Played', fontdict={'fontsize':'x-large'})\n",
    "axes[1].set_xlabel('Number of Levels Played', fontdict={'fontsize':'x-large'})\n",
    "axes[0].set_ylabel('User Count', fontdict={'fontsize':'x-large'})\n",
    "axes[1].set_ylabel('User Count', fontdict={'fontsize':'x-large'})\n",
    "plt.tight_layout(pad=2)\n",
    "plt.show()"
   ]
  },
  {
   "cell_type": "markdown",
   "id": "a200a230",
   "metadata": {},
   "source": [
    "We observe that almost 4,000 users didn't play any levels after installing Cookie Cats. Why might this be so? Some possible reasons include:\n",
    "\n",
    "* They opened the game and didn't like what they saw (e.g., design, interface, colors, music, etc) and quit before playing any levels.\n",
    "* They opened the game and wanted to play but could not figure out how to play.\n",
    "* They still intend to play but have not had time yet.\n",
    "* They downloaded other apps at the same time and decided to play those instead.\n",
    "\n",
    "It is also worth noting that even more users stopped playing the game after only playing one or two levels. Some possible reasons for this include:\n",
    "\n",
    "* The game was too easy and they got bored.\n",
    "* The game was too difficult and they got frustrated.\n",
    "* The game was too difficult and they simply could not advance to more levels.\n",
    "* They decided they did not enjoy playing the game regardless of difficulty.\n",
    "* The game turned out to be different than they expected.\n",
    "\n",
    "Tactile Entertainment should try to figure out why so many users are churning early on, but that question is beyond the scope of the data we have here. A survey of users, or other data collected in the game, might help to figure this out.\n",
    "\n",
    "However, we can look at how the placement of gates affects retention for users who make it to later levels. Let's turn now to the retention data.\n",
    "\n",
    "## IV. Comparing One-Day Retention Between Groups\n",
    "\n",
    "Let's first look at the percentage of users who returned to the game one day after installing."
   ]
  },
  {
   "cell_type": "code",
   "execution_count": 11,
   "id": "c43613ea",
   "metadata": {},
   "outputs": [
    {
     "name": "stdout",
     "output_type": "stream",
     "text": [
      "44.52\n"
     ]
    }
   ],
   "source": [
    "print(round(cats['retention_1'].sum()/cats['retention_1'].count()*100, 2))"
   ]
  },
  {
   "cell_type": "markdown",
   "id": "429c33bd",
   "metadata": {},
   "source": [
    "About 44.52% of users return one day after installing. How does this differ between version groups?"
   ]
  },
  {
   "cell_type": "code",
   "execution_count": 12,
   "id": "991a9850",
   "metadata": {},
   "outputs": [
    {
     "data": {
      "text/plain": [
       "version\n",
       "gate_30   44.82\n",
       "gate_40   44.23\n",
       "Name: retention_1, dtype: float64"
      ]
     },
     "execution_count": 12,
     "metadata": {},
     "output_type": "execute_result"
    }
   ],
   "source": [
    "ret_1_pcts = cats.groupby('version')['retention_1'].mean()*100\n",
    "ret_1_pcts"
   ]
  },
  {
   "cell_type": "markdown",
   "id": "a020a5ba",
   "metadata": {},
   "source": [
    "A higher percentage of users return to the game after one day when the gate is placed at level 30 versus when the gate is placed at level 40. From these values, we can compute a test statistic that is the percentage difference between the one-day retention rates of these two groups."
   ]
  },
  {
   "cell_type": "code",
   "execution_count": 13,
   "id": "c678a3b8",
   "metadata": {},
   "outputs": [
    {
     "name": "stdout",
     "output_type": "stream",
     "text": [
      "1.34\n"
     ]
    }
   ],
   "source": [
    "test_stat_1 = (ret_1_pcts[0] - ret_1_pcts[1])/ret_1_pcts[1]*100\n",
    "print(round(test_stat_1, 2))"
   ]
  },
  {
   "cell_type": "markdown",
   "id": "d6641665",
   "metadata": {},
   "source": [
    "So, the retention rate for the gate_30 group is 1.34% higher than the retention rate for the gate_40 group. \n",
    "\n",
    "Is this difference statistically significant? We can figure this out by running a hypothesis test between the two groups. We start with a null hypothesis (e.g., that the percentage difference in one-day retention rates between groups is zero) and an alternative hypothesis (e.g., that the percentage difference is greater than zero). Generally, hypothesis tests compare the observed value $\\hat{τ}$ of a test statistic $τ$ with the distribution of that test statistic if the null hypothesis were true. The null hypothesis is rejected if $\\hat{τ}$ is sufficiently extreme compared to the null distribution for the chosen significance level $α$. We can measure this with a p-value. When performing a hypothesis test at significance level $α$ that rejects the null hypothesis when $\\hatτ$ is in the upper tail of the null distribution, the p-value of $\\hat{τ}$ is $p(\\hat{τ}) = 1 − F(\\hat{τ})$, where $F(τ)$ is the cumulative distribution function of $τ$ under the null hypothesis. In situations where $F(τ)$ is known, it is easy to simply calculate the p-value. However, in many situations $F(τ)$ is not known [1].\n",
    "\n",
    "If we were sure that the distribution of $τ$ (in our case, the percent difference in one-day retention rates) were normal, we could use a parametric test like a t test. However, we are not sure what the distribution of $τ$ is, so a non-parametric test would be more appropriate. One such test is a permutation test. With a permutation test, we pool our two groups of data and generate a new data set of every possible permuation of the labels in groups A and B (in our case, the gate 30 group and the gate 40 group). We then take a random sample, indexed by $j$, from this set of permuted data without replacement and compute our test statistic $τ^{*}_{j}$ for each permuted sample we draw. The result is the empirical distribution function $\\hat{F}^{∗}$ of the test statistic $τ^{*}_{j}$ under the null hypothesis, and it can be used to perform hypothesis tests [2]. Under this process, the p-value for the upper tail is: \n",
    "\n",
    "$$\\hat{p}^{*}(\\hat{τ}) = 1 - \\hat{F}^{∗}(\\hatτ) = \\frac{1}{B}\\sum \\limits _{j=1} ^{B} I(τ^{*}_{j} > \\hat{τ})$$\n",
    "\n",
    "where $I(·)$ is the indicator function, which is equal to 1 when its argument is true and 0 otherwise. This is the same as measuring the proportion of test statistics computed from samples of permuted data that exceed the observed value $\\hat{τ}$.\n",
    "\n",
    "While a one-tailed test works if we are measuring the possibility of an effect only in one direction, a two-tailed hypothesis test is necessary if we are measuring the possibility of an effect in either direction. Performing a two-tailed hypothesis test requires different formulas for p-values. Assuming that $τ$ is symmetrically distributed around 0, then the symmetric p-value is appropriate:\n",
    "\n",
    "$$\\hat{p}_{s}^{*}(\\hat{τ}) = \\frac{1}{B}\\sum \\limits _{j=1} ^{B} I(|τ^{*}_{j}| > |\\hat{τ}|)$$\n",
    "\n",
    "If assuming a symmetric distribution of $τ$ is not possible, then the equal-tail p-value is appropriate:\n",
    "\n",
    "$$\\hat{p}_{et}^{*}(\\hat{τ}) = 2 * min(\\frac{1}{B}\\sum \\limits _{j=1} ^{B} I(τ^{*}_{j} \\leq \\hat{τ}), \\frac{1}{B}\\sum \\limits _{j=1} ^{B} I(τ^{*}_{j} > \\hat{τ}))$$\n",
    "\n",
    "This is just the lesser of the upper and lower tail p-values multiplied by 2 [1].\n",
    "\n",
    "A permutation test is more flexible than a t test because it only relies on the assumption that the labels in our data are exchangeable. A sequence of random variables is exchangeable if any permutation of that sequence has the same joint probability distribution as the original. For example, a coin has a 50% chance of coming up heads and 50% chance of coming up tails. Any permutation of a series of flips with this coin will still have the same joint probability distribution because the process generating all the data is the same. Likewise, even if the coin had a 60% chance of coming up heads and 40% chance of coming up tails, the resulting sequence of coin flips would still be exchangeable. However, a series of coin flips that alternated between these two coins would not be exchangeable because the data generating process changes between coin flips [3].\n",
    "\n",
    "Because players in our data were randomly assigned to either group, which is essentially the same as a series of coin flips with the same coin, our data meets the assumption of exchangeability, so we can perform a permutation test. We will test the null hypothesis that the percentage difference between the one-day retention rate for the gate_30 group and the one-day retention rate for the gate_40 group is zero at a significance level of $α = 5\\%$. The alternative hypothesis is that this percentage difference is not zero, because we are still not sure if moving the gate has a positive or negative effect on retention and we would like to account for all possibilities. Thus, we should use a two-tailed test. We cannot assume that the distribution of this test statistic is symmetric around zero, so we will use the equal-tail p-value."
   ]
  },
  {
   "cell_type": "code",
   "execution_count": 14,
   "id": "c45c5123",
   "metadata": {},
   "outputs": [
    {
     "name": "stdout",
     "output_type": "stream",
     "text": [
      "p-value = 0.07\n"
     ]
    }
   ],
   "source": [
    "#Randomly sample 5000 permutations of length equal to both groups of data\n",
    "len_30, len_40 = len(cats[cats['version'] == 'gate_30']), len(cats[cats['version'] == 'gate_40'])\n",
    "perm = np.array([np.random.permutation(len_30 + len_40) for i in range(5000)])\n",
    "\n",
    "#Pool data and assign permutations\n",
    "ret_1 = np.array(cats['retention_1'])\n",
    "perm_30_1 = ret_1[perm[:, :len_30]]\n",
    "perm_40_1 = ret_1[perm[:, len_30:]]\n",
    "\n",
    "#Compute test statistics for each permutation\n",
    "pct_diffs_1 = (np.mean(perm_30_1, axis=1) - np.mean(perm_40_1, axis=1))/np.mean(perm_40_1, axis=1)*100\n",
    "\n",
    "#Compute p-value\n",
    "p = 2*np.minimum(np.sum(pct_diffs_1 <= test_stat_1)/5000, np.sum(pct_diffs_1 > test_stat_1)/5000)\n",
    "print(f'p-value = {round(p, 2)}')"
   ]
  },
  {
   "cell_type": "markdown",
   "id": "1e9ddbe4",
   "metadata": {},
   "source": [
    "The p-value of 0.07 is greater than the significance level of 0.05, so we fail to reject the null hypothesis that the gate_30 and gate_40 groups have different one-day retention rates. \n",
    "\n",
    "Another way to see this is to plot the null distribution of the test statistic in a histogram and see where the actual percent difference in retention falls in that distribution. For a significance level of 5%, if the actual value of the test statistic falls within the 95% confidence interval of the null distribution, then we fail to reject the null hypothesis."
   ]
  },
  {
   "cell_type": "code",
   "execution_count": 15,
   "id": "04f8e795",
   "metadata": {},
   "outputs": [
    {
     "data": {
      "image/png": "[encoded data removed]",
      "text/plain": [
       "<Figure size 1080x360 with 1 Axes>"
      ]
     },
     "metadata": {
      "needs_background": "light"
     },
     "output_type": "display_data"
    }
   ],
   "source": [
    "fig, ax = plt.subplots(figsize=(15, 5))\n",
    "sns.histplot(data=pct_diffs_1, ax=ax)\n",
    "ax.set_xlabel('Percent Difference', fontdict={'fontsize':'x-large'})\n",
    "ax.set_ylabel('Count', fontdict={'fontsize':'x-large'})\n",
    "ax.set_title('One-Day Retention', fontdict={'fontsize':'xx-large'})\n",
    "\n",
    "#Plot 95% confidence interval\n",
    "lower, upper = np.percentile(pct_diffs_1, [2.5, 97.5])\n",
    "plt.axvspan(lower, upper, color='grey', alpha=0.2)\n",
    "\n",
    "#Plot line at observed value of test statistic\n",
    "plt.axvline(x = test_stat_1, linestyle='--', color='black')\n",
    "plt.annotate('Observed Percent Difference in Retention', xy=(test_stat_1, 25),\n",
    "             xytext=(test_stat_1 + 0.5, 30), arrowprops={'facecolor':'black', 'width':3},\n",
    "             backgroundcolor ='white')\n",
    "plt.show()"
   ]
  },
  {
   "cell_type": "markdown",
   "id": "064836c4",
   "metadata": {},
   "source": [
    "It isn't too surprising that we would fail to reject the null hypothesis that the one-day retention rate is different when the gate is placed at level 30 versus level 40. If players have only been playing the game for one day, it is likely that most players have not yet reached round 30. Thus, we should also perform a similar test using the seven-day retention rate to see if the gate placement makes any difference in retention.\n",
    "\n",
    "## V. Comparing Seven-Day Retention Between Groups\n",
    "\n",
    "First, we calculate the overall seven-day retention rate."
   ]
  },
  {
   "cell_type": "code",
   "execution_count": 16,
   "id": "e44c14fa",
   "metadata": {},
   "outputs": [
    {
     "name": "stdout",
     "output_type": "stream",
     "text": [
      "18.61\n"
     ]
    }
   ],
   "source": [
    "print(round(cats['retention_7'].sum()/cats['retention_7'].count()*100, 2))"
   ]
  },
  {
   "cell_type": "markdown",
   "id": "c97301df",
   "metadata": {},
   "source": [
    "The seven-day retention rate is about 18.61%, which is much lower than the one-day retention rate. This indicates that much fewer people are playing the game a week after installing versus one day after installing. How does the retention rate differ between version groups?"
   ]
  },
  {
   "cell_type": "code",
   "execution_count": 17,
   "id": "6c15c492",
   "metadata": {},
   "outputs": [
    {
     "data": {
      "text/plain": [
       "version\n",
       "gate_30   19.02\n",
       "gate_40   18.20\n",
       "Name: retention_7, dtype: float64"
      ]
     },
     "execution_count": 17,
     "metadata": {},
     "output_type": "execute_result"
    }
   ],
   "source": [
    "ret_7_pcts = cats.groupby('version')['retention_7'].mean()*100\n",
    "ret_7_pcts"
   ]
  },
  {
   "cell_type": "markdown",
   "id": "3775fa35",
   "metadata": {},
   "source": [
    "Once again, the retention rate is higher when the gate is placed at level 30 versus when the gate is placed at level 40, by an even larger amount. Let's compute the percentage difference between the retention rates of these two groups."
   ]
  },
  {
   "cell_type": "code",
   "execution_count": 18,
   "id": "3f00df33",
   "metadata": {},
   "outputs": [
    {
     "name": "stdout",
     "output_type": "stream",
     "text": [
      "4.5\n"
     ]
    }
   ],
   "source": [
    "test_stat_7 = (ret_7_pcts[0] - ret_7_pcts[1])/ret_7_pcts[1]*100\n",
    "print(round(test_stat_7, 2))"
   ]
  },
  {
   "cell_type": "markdown",
   "id": "02c0580d",
   "metadata": {},
   "source": [
    "This is a much larger percentage difference in retention rates (about 4.5%) than we saw with the one-day retention rates. Presumably, this is because more players have had a chance to get to the gate after seven days than after just one day.\n",
    "\n",
    "As we did with the percentage difference in one-day retention rates, let's perform a two-tailed permutation test at the 5% significance level to determine whether this difference in retention rates is statistically significant."
   ]
  },
  {
   "cell_type": "code",
   "execution_count": 19,
   "id": "96c74a8f",
   "metadata": {},
   "outputs": [
    {
     "name": "stdout",
     "output_type": "stream",
     "text": [
      "p-value = 0.0\n"
     ]
    }
   ],
   "source": [
    "#Pool data and assign permutations\n",
    "ret_7 = np.array(cats['retention_7'])\n",
    "perm_30_7 = ret_7[perm[:, :len_30]]\n",
    "perm_40_7 = ret_7[perm[:, len_30:]]\n",
    "\n",
    "#Compute test statistics for each permutation\n",
    "pct_diffs_7 = (np.mean(perm_30_7, axis=1) - np.mean(perm_40_7, axis=1))/np.mean(perm_40_7, axis=1)*100\n",
    "\n",
    "#Compute p-value\n",
    "p = 2*np.minimum(np.sum(pct_diffs_7 >= test_stat_7)/5000, np.sum(pct_diffs_7 < test_stat_7)/5000)\n",
    "print(f'p-value = {round(p, 2)}')"
   ]
  },
  {
   "cell_type": "markdown",
   "id": "52191d5c",
   "metadata": {},
   "source": [
    "The p-value now is much lower than 0.05, so we reject the null hypothesis that the percentage difference in seven-day retention rates for the two groups is zero. Again, we can visualize this with a histogram."
   ]
  },
  {
   "cell_type": "code",
   "execution_count": 20,
   "id": "bf0e0849",
   "metadata": {},
   "outputs": [
    {
     "data": {
      "image/png": "[encoded data removed]",
      "text/plain": [
       "<Figure size 1080x360 with 1 Axes>"
      ]
     },
     "metadata": {
      "needs_background": "light"
     },
     "output_type": "display_data"
    }
   ],
   "source": [
    "fig, ax = plt.subplots(figsize=(15, 5))\n",
    "sns.histplot(data=pct_diffs_7, ax=ax)\n",
    "ax.set_xlabel('Percent Difference', fontdict={'fontsize':'x-large'})\n",
    "ax.set_ylabel('Count', fontdict={'fontsize':'x-large'})\n",
    "ax.set_title('Seven-Day Retention', fontdict={'fontsize':'xx-large'})\n",
    "\n",
    "#Plot 95% confidence interval\n",
    "lower, upper = np.percentile(pct_diffs_7, [2.5, 97.5])\n",
    "plt.axvspan(lower, upper, color='grey', alpha=0.2)\n",
    "\n",
    "#Plot line at observed value of test statistic\n",
    "plt.axvline(x = test_stat_7, linestyle='--', color='black')\n",
    "plt.annotate('Observed Percent Difference in Retention', xy=(test_stat_7, 25),\n",
    "             xytext=(test_stat_7 + 0.5, 30), arrowprops={'facecolor':'black', 'width':3},\n",
    "             backgroundcolor ='white')\n",
    "plt.show()"
   ]
  },
  {
   "cell_type": "markdown",
   "id": "d8d4881a",
   "metadata": {},
   "source": [
    "Here, unlike with the one-day retention rate, the actual percentage difference in seven-day retention rates is well outside of the 95% confidence interval.\n",
    "\n",
    "## VI. Discussion and Conclusion\n",
    "\n",
    "Our A/B test indicates that there is strong evidence that the seven-day retention rate is higher when the gate is placed in level 30 than in level 40. But why is this so? Wouldn't we expect placing an obstacle earlier in the game to reduce retention? Not necessarily. This could be an example of hedonic adaptation, which is an observed tendency of people to quickly revert back to a stable level of happiness after positive or negative events [4]. It is possible that by placing a gate earlier in the game, the game forces players to take a break, which keeps them from getting bored with the game and prolongs their enjoyment. \n",
    "\n",
    "As a follow-up to this test, it would be useful to look at whether placing the gate even earlier in the game (e.g., at round 20 or 25) increases the retention rate even more. It would also be useful to do a survey of users or use other data from the game to determine why so many users churn in the first few levels of the game. Figuring this out and then resolving the problem could have a much larger overall effect on player retention.\n",
    "\n",
    "## VII. References\n",
    "\n",
    "1. MacKinnon JG. 2007 'Bootstrap Hypothesis Testing'. Queen’s Economics Department Working Paper No. 1127. https://ageconsearch.umn.edu/record/273603/files/qed_wp_1127.pdf.\n",
    "2. DataCamp. 'Permutation testing'. Statistical Simulation in Python. https://campus.datacamp.com/courses/statistical-simulation-in-python/resampling-methods?ex=11.\n",
    "3. Berk M. September 21, 2021, 'How to use Permutation Tests'. Towards Data Science. https://towardsdatascience.com/how-to-use-permutation-tests-bacc79f45749.\n",
    "4. 'Hedonic Treadmill'. Wikipedia. https://en.wikipedia.org/wiki/Hedonic_treadmill."
   ]
  }
 ],
 "metadata": {
  "kernelspec": {
   "display_name": "cookie_cats",
   "language": "python",
   "name": "cookie_cats"
  },
  "language_info": {
   "codemirror_mode": {
    "name": "ipython",
    "version": 3
   },
   "file_extension": ".py",
   "mimetype": "text/x-python",
   "name": "python",
   "nbconvert_exporter": "python",
   "pygments_lexer": "ipython3",
   "version": "3.8.8"
  }
 },
 "nbformat": 4,
 "nbformat_minor": 5
}
